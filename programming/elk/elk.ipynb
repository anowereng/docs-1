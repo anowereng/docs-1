{
 "metadata": {
  "language_info": {
   "codemirror_mode": {
    "name": "ipython",
    "version": 3
   },
   "file_extension": ".py",
   "mimetype": "text/x-python",
   "name": "python",
   "nbconvert_exporter": "python",
   "pygments_lexer": "ipython3",
   "version": "3.8.5-final"
  },
  "orig_nbformat": 2,
  "kernelspec": {
   "name": "python3",
   "display_name": "Python 3.8.5 64-bit",
   "metadata": {
    "interpreter": {
     "hash": "aee8b7b246df8f9039afb4144a1f6fd8d2ca17a180786b69acc140d282b71a49"
    }
   }
  }
 },
 "nbformat": 4,
 "nbformat_minor": 2,
 "cells": [
  {
   "cell_type": "code",
   "execution_count": 11,
   "metadata": {},
   "outputs": [
    {
     "output_type": "stream",
     "name": "stdout",
     "text": [
      "All modules are loaded!\n"
     ]
    }
   ],
   "source": [
    "try:\n",
    "    import os\n",
    "    import sys\n",
    "\n",
    "    import elasticsearch\n",
    "    from elasticsearch import Elasticsearch\n",
    "    import pandas as pd\n",
    "\n",
    "    print(\"All modules are loaded!\")\n",
    "except Exception as e:\n",
    "    print(\"Some modules are missing: {}\".format(e))\n"
   ]
  },
  {
   "source": [
    "## Checks ES connection"
   ],
   "cell_type": "markdown",
   "metadata": {}
  },
  {
   "cell_type": "code",
   "execution_count": 12,
   "metadata": {},
   "outputs": [
    {
     "output_type": "execute_result",
     "data": {
      "text/plain": [
       "True"
      ]
     },
     "metadata": {},
     "execution_count": 12
    }
   ],
   "source": [
    "es = Elasticsearch(['http://35.228.164.3:9200'], http_auth=('elastic', 'kpjMhpgbbMonhIInlhg'))\n",
    "es.ping()"
   ]
  },
  {
   "source": [
    "## Create index"
   ],
   "cell_type": "markdown",
   "metadata": {}
  },
  {
   "cell_type": "code",
   "execution_count": 21,
   "metadata": {},
   "outputs": [
    {
     "output_type": "execute_result",
     "data": {
      "text/plain": [
       "{'acknowledged': True, 'shards_acknowledged': True, 'index': 'my-foo'}"
      ]
     },
     "metadata": {},
     "execution_count": 21
    }
   ],
   "source": [
    "es.indices.create(index='my-foo', ignore=400)"
   ]
  },
  {
   "source": [
    "## Get indices"
   ],
   "cell_type": "markdown",
   "metadata": {}
  },
  {
   "cell_type": "code",
   "execution_count": 19,
   "metadata": {},
   "outputs": [
    {
     "output_type": "stream",
     "name": "stdout",
     "text": [
      ".ml-annotations-6\n.async-search\n.monitoring-logstash-7-2020.12.15\n.kibana_task_manager_1\n.kibana_1\n.monitoring-es-7-2020.12.17\n.monitoring-logstash-7-2020.12.16\n.monitoring-alerts-7\n.watcher-history-12-2020.12.15\n.watcher-history-12-2020.12.16\nfilebeat-7.10.1-2020.12.17-000001\n.monitoring-es-7-2020.12.16\n.ml-config\n.monitoring-logstash-7-2020.12.18\n.apm-agent-configuration\n.monitoring-es-7-2020.12.15\n.monitoring-kibana-7-2020.12.15\n.triggered_watches\n.apm-custom-link\n.watches\n.watcher-history-12-2020.12.17\n.monitoring-es-7-2020.12.18\n.kibana_security_session_1\n.monitoring-kibana-7-2020.12.16\n.watcher-history-12-2020.12.18\nmetrics-endpoint.metadata_current_default\n.transform-notifications-000002\nlogstash-2020.12.15-000001\nilm-history-3-000001\n.kibana-event-log-7.10.1-000001\n.monitoring-kibana-7-2020.12.18\n.ml-notifications-000001\n.security-7\n.transform-internal-005\n.monitoring-kibana-7-2020.12.17\n.ml-anomalies-shared\n.monitoring-logstash-7-2020.12.17\n"
     ]
    }
   ],
   "source": [
    "res = es.indices.get_alias(\"*\")\n",
    "for Name in res:\n",
    "    print(Name)"
   ]
  },
  {
   "source": [
    "## Delete index"
   ],
   "cell_type": "markdown",
   "metadata": {}
  },
  {
   "cell_type": "code",
   "execution_count": 22,
   "metadata": {},
   "outputs": [
    {
     "output_type": "execute_result",
     "data": {
      "text/plain": [
       "{'acknowledged': True}"
      ]
     },
     "metadata": {},
     "execution_count": 22
    }
   ],
   "source": [
    "es.indices.delete(index=\"my-foo\", ignore=[400, 404])"
   ]
  },
  {
   "source": [
    "## Upload two JSON objects"
   ],
   "cell_type": "markdown",
   "metadata": {}
  },
  {
   "cell_type": "code",
   "execution_count": 37,
   "metadata": {},
   "outputs": [],
   "source": [
    "e1 = {\n",
    "    \"first_name\":\"Sergei\",\n",
    "    \"last_name\": \"Petrov\",\n",
    "    \"age\": 24,\n",
    "    \"about\": \"The dude\",\n",
    "    \"cities\": [\"Tver\", \"Moscow\"],\n",
    "}\n",
    "\n",
    "e2 = {\n",
    "    \"first_name\": \"John\",\n",
    "    \"last_name\": \"Sharp\",\n",
    "    \"age\": 25,\n",
    "    \"about\": \"The man\",\n",
    "    \"cities\": [\"New York\", \"Philadelphia\"],\n",
    "}"
   ]
  },
  {
   "cell_type": "code",
   "execution_count": 20,
   "metadata": {},
   "outputs": [
    {
     "output_type": "execute_result",
     "data": {
      "text/plain": [
       "{'acknowledged': True, 'shards_acknowledged': True, 'index': 'testperson'}"
      ]
     },
     "metadata": {},
     "execution_count": 20
    }
   ],
   "source": [
    "es.indices.create(index='testperson', ignore=400)"
   ]
  },
  {
   "cell_type": "code",
   "execution_count": 45,
   "metadata": {},
   "outputs": [
    {
     "output_type": "execute_result",
     "data": {
      "text/plain": [
       "{'_index': 'testperson',\n",
       " '_type': 'testpeople',\n",
       " '_id': '8',\n",
       " '_version': 2,\n",
       " 'result': 'updated',\n",
       " '_shards': {'total': 2, 'successful': 1, 'failed': 0},\n",
       " '_seq_no': 2,\n",
       " '_primary_term': 1}"
      ]
     },
     "metadata": {},
     "execution_count": 45
    }
   ],
   "source": [
    "res1 = es.index(index='testperson', doc_type='testpeople', body=e1, id=8)\n",
    "res1"
   ]
  },
  {
   "cell_type": "code",
   "execution_count": 48,
   "metadata": {},
   "outputs": [
    {
     "output_type": "execute_result",
     "data": {
      "text/plain": [
       "{'_index': 'testperson',\n",
       " '_type': 'testpeople',\n",
       " '_id': '2',\n",
       " '_version': 3,\n",
       " 'result': 'updated',\n",
       " '_shards': {'total': 2, 'successful': 1, 'failed': 0},\n",
       " '_seq_no': 5,\n",
       " '_primary_term': 1}"
      ]
     },
     "metadata": {},
     "execution_count": 48
    }
   ],
   "source": [
    "res2 = es.index(index='testperson', doc_type='testpeople', body=e2, id=2)\n",
    "res2"
   ]
  },
  {
   "cell_type": "code",
   "execution_count": null,
   "metadata": {},
   "outputs": [],
   "source": []
  }
 ]
}