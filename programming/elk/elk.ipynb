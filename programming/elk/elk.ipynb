{
 "metadata": {
  "language_info": {
   "codemirror_mode": {
    "name": "ipython",
    "version": 3
   },
   "file_extension": ".py",
   "mimetype": "text/x-python",
   "name": "python",
   "nbconvert_exporter": "python",
   "pygments_lexer": "ipython3",
   "version": "3.8.5-final"
  },
  "orig_nbformat": 2,
  "kernelspec": {
   "name": "python3",
   "display_name": "Python 3.8.5 64-bit",
   "metadata": {
    "interpreter": {
     "hash": "aee8b7b246df8f9039afb4144a1f6fd8d2ca17a180786b69acc140d282b71a49"
    }
   }
  }
 },
 "nbformat": 4,
 "nbformat_minor": 2,
 "cells": [
  {
   "cell_type": "code",
   "execution_count": 1,
   "metadata": {},
   "outputs": [
    {
     "output_type": "stream",
     "name": "stdout",
     "text": [
      "All modules are loaded!\n"
     ]
    }
   ],
   "source": [
    "try:\n",
    "    import os\n",
    "    import sys\n",
    "\n",
    "    import elasticsearch\n",
    "    from elasticsearch import Elasticsearch\n",
    "    import pandas as pd\n",
    "\n",
    "    print(\"All modules are loaded!\")\n",
    "except Exception as e:\n",
    "    print(\"Some modules are missing: {}\".format(e))\n"
   ]
  },
  {
   "cell_type": "code",
   "execution_count": 2,
   "metadata": {},
   "outputs": [
    {
     "output_type": "execute_result",
     "data": {
      "text/plain": [
       "{'error': {'root_cause': [{'type': 'resource_already_exists_exception',\n",
       "    'reason': 'index [my-foo/KxRgeTFNSSK6m0BiCNsMGQ] already exists',\n",
       "    'index_uuid': 'KxRgeTFNSSK6m0BiCNsMGQ',\n",
       "    'index': 'my-foo'}],\n",
       "  'type': 'resource_already_exists_exception',\n",
       "  'reason': 'index [my-foo/KxRgeTFNSSK6m0BiCNsMGQ] already exists',\n",
       "  'index_uuid': 'KxRgeTFNSSK6m0BiCNsMGQ',\n",
       "  'index': 'my-foo'},\n",
       " 'status': 400}"
      ]
     },
     "metadata": {},
     "execution_count": 2
    }
   ],
   "source": [
    "es = Elasticsearch(['http://35.228.164.3:9200'], http_auth=('elastic', 'wGqTSkJtKIdNNnugBnk5'))\n",
    "es.ping()\n",
    "es.indices.create(index='my-foo', ignore=400)"
   ]
  },
  {
   "cell_type": "code",
   "execution_count": null,
   "metadata": {},
   "outputs": [],
   "source": []
  }
 ]
}