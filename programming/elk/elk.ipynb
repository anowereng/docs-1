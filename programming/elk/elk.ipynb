{
 "metadata": {
  "language_info": {
   "codemirror_mode": {
    "name": "ipython",
    "version": 3
   },
   "file_extension": ".py",
   "mimetype": "text/x-python",
   "name": "python",
   "nbconvert_exporter": "python",
   "pygments_lexer": "ipython3",
   "version": "3.8.5-final"
  },
  "orig_nbformat": 2,
  "kernelspec": {
   "name": "python3",
   "display_name": "Python 3.8.5 64-bit",
   "metadata": {
    "interpreter": {
     "hash": "aee8b7b246df8f9039afb4144a1f6fd8d2ca17a180786b69acc140d282b71a49"
    }
   }
  }
 },
 "nbformat": 4,
 "nbformat_minor": 2,
 "cells": [
  {
   "cell_type": "code",
   "execution_count": null,
   "metadata": {},
   "outputs": [],
   "source": [
    "try:\n",
    "    import os\n",
    "    import sys\n",
    "\n",
    "    import elasticsearch\n",
    "    from elasticsearch import Elasticsearch\n",
    "    import pandas as pd\n",
    "\n",
    "    print(\"All modules are loaded!\")\n",
    "except Exception as e:\n",
    "    print(\"Some modules are missing: {}\".format(e))\n"
   ]
  },
  {
   "source": [
    "## Checks ES connection"
   ],
   "cell_type": "markdown",
   "metadata": {}
  },
  {
   "cell_type": "code",
   "execution_count": null,
   "metadata": {},
   "outputs": [],
   "source": [
    "es = Elasticsearch(['http://35.228.164.3:9200'], http_auth=('elastic', 'kpjMhpgbbMonhIInlhg'))\n",
    "es.ping()"
   ]
  },
  {
   "source": [
    "## Create index"
   ],
   "cell_type": "markdown",
   "metadata": {}
  },
  {
   "cell_type": "code",
   "execution_count": null,
   "metadata": {},
   "outputs": [],
   "source": [
    "es.indices.create(index='my-foo', ignore=400)"
   ]
  },
  {
   "source": [
    "## Get indices"
   ],
   "cell_type": "markdown",
   "metadata": {}
  },
  {
   "cell_type": "code",
   "execution_count": null,
   "metadata": {},
   "outputs": [],
   "source": [
    "res = es.indices.get_alias(\"*\")\n",
    "for Name in res:\n",
    "    print(Name)"
   ]
  },
  {
   "source": [
    "## Delete index"
   ],
   "cell_type": "markdown",
   "metadata": {}
  },
  {
   "cell_type": "code",
   "execution_count": null,
   "metadata": {},
   "outputs": [],
   "source": [
    "es.indices.delete(index=\"my-foo\", ignore=[400, 404])"
   ]
  },
  {
   "source": [
    "## Upload two JSON objects"
   ],
   "cell_type": "markdown",
   "metadata": {}
  },
  {
   "cell_type": "code",
   "execution_count": null,
   "metadata": {},
   "outputs": [],
   "source": [
    "e1 = {\n",
    "    \"first_name\":\"Sergei\",\n",
    "    \"last_name\": \"Petrov\",\n",
    "    \"age\": 24,\n",
    "    \"about\": \"The dude\",\n",
    "    \"cities\": [\"Tver\", \"Moscow\"],\n",
    "}\n",
    "\n",
    "e2 = {\n",
    "    \"first_name\": \"John\",\n",
    "    \"last_name\": \"Sharp\",\n",
    "    \"age\": 25,\n",
    "    \"about\": \"The man\",\n",
    "    \"cities\": [\"New York\", \"Philadelphia\"],\n",
    "}"
   ]
  },
  {
   "cell_type": "code",
   "execution_count": null,
   "metadata": {},
   "outputs": [],
   "source": [
    "es.indices.create(index='testperson', ignore=400)"
   ]
  },
  {
   "cell_type": "code",
   "execution_count": null,
   "metadata": {},
   "outputs": [],
   "source": [
    "res1 = es.index(index='testperson', doc_type='testpeople', body=e1, id=8)\n",
    "res1"
   ]
  },
  {
   "cell_type": "code",
   "execution_count": null,
   "metadata": {},
   "outputs": [],
   "source": [
    "res2 = es.index(index='testperson', doc_type='testpeople', body=e2, id=2)\n",
    "res2"
   ]
  },
  {
   "cell_type": "code",
   "execution_count": null,
   "metadata": {},
   "outputs": [],
   "source": []
  }
 ]
}